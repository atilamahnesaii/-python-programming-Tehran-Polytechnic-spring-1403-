{
  "nbformat": 4,
  "nbformat_minor": 0,
  "metadata": {
    "colab": {
      "provenance": [],
      "name": "python-programming-tehran-polytechnic-spring-1403.ipynb",
      "authorship_tag": "ABX9TyMCb/+DXRIa2turQW0ZATFR",
      "include_colab_link": true
    },
    "kernelspec": {
      "name": "python3",
      "display_name": "Python 3"
    },
    "language_info": {
      "name": "python"
    }
  },
  "cells": [
    {
      "cell_type": "markdown",
      "metadata": {
        "id": "view-in-github",
        "colab_type": "text"
      },
      "source": [
        "<a href=\"https://colab.research.google.com/github/atilamahnesaii/-python-programming-Tehran-Polytechnic-spring-1403-/blob/main/python_programming_tehran_polytechnic_spring_1403.ipynb\" target=\"_parent\"><img src=\"https://colab.research.google.com/assets/colab-badge.svg\" alt=\"Open In Colab\"/></a>"
      ]
    },
    {
      "cell_type": "markdown",
      "source": [
        "The first practice of programming with Python, Tehran Polytechnic University, spring 1403"
      ],
      "metadata": {
        "id": "Pm7aqXWY8w6Q"
      }
    },
    {
      "cell_type": "code",
      "source": [
        "\n",
        "import math\n",
        "from decimal import Decimal\n",
        "# We can use int or float  instead of Decimal\n",
        "# We can use int or float  instead of Decimal but better we usr float\n",
        "\n",
        "# Get the coordinates of three vertices from the user\n",
        "x1,y1 = float(input(\"x1 :\")),float(input(\"y1 :\"))\n",
        "x2,y2= float(input(\"x2 :\")),float(input(\"y2 :\"))\n",
        "x3,y3 = float(input(\"x3 :\")),float(input(\"y3 :\"))\n",
        "# Calculate the length of each side\n",
        "side1 = math.sqrt((x2 - x1)**2 +(y2 - y1)**2)\n",
        "side2 = math.sqrt((x3 - x2)**2 + (y3 - y2)**2)\n",
        "side3 = math.sqrt((x1 - x3)**2 + (y1 - y3)**2)\n",
        "\n",
        "numbers = [side1,side2,side3]\n",
        "sorted_numbers = sorted(numbers)\n",
        "# print(sorted_numbers)\n",
        "# # Checking the existence of a triangle\n",
        "def is_triangle(side1, side2, side3):\n",
        "# Examining the conditions for the existence of a triangle\n",
        "    if side1 + side2 > side3 and side2 + side3 > side1 and side1 + side3 > side2:\n",
        "        return True\n",
        "    else:\n",
        "        return False\n",
        "\n",
        "# Calculate the area of the triangle using Heron's formula\n",
        "def calculate_area(side1, side2, side3):\n",
        "    s = (side1 + side2 + side3) / 2  # Half of the perimeter of the triangle\n",
        "    area = math.sqrt(s * (s - side1) * (s - side2) * (s - side3))  # Heron's formula for calculating area\n",
        "    return area\n",
        "\n",
        "# Identify the type of triangle\n",
        "def determine_triangle_type(side1, side2, side3):\n",
        "    # Check the type of triangle based on the length of the equilateral sides\n",
        "    if side1 == side2 == side3:\n",
        "        return \"Equilateral triangle\"\n",
        "    #Isosceles right triangle\n",
        "    elif (side1 == side2 or side1 == side3 or side2 == side3) and (min(numbers) /side2 or min(numbers) /side3 or min(numbers) /side1 ==(math.sqrt(2)/2)):\n",
        "        return\"Isosceles right triangle\"\n",
        "    # Check if the triangle is isosceles\n",
        "    elif side1 == side2 or side1 == side3 or side2 == side3:\n",
        "        return \"Isosceles triangle\"\n",
        "    # Check if the triangle is right-angled\n",
        "    elif (min(numbers) /side2 or min(numbers) /side3 or min(numbers) /side1 ==(math.sqrt(2)/2)):\n",
        "        return \"Right triangle\"\n",
        "    else:\n",
        "        return \"Different sided triangle\"\n",
        "\n",
        "# Checking the existence of a triangle\n",
        "istriangle=is_triangle(side1, side2, side3)\n",
        "calculatearea=calculate_area(side1, side2, side3)\n",
        "determinetriangletype=determine_triangle_type(side1, side2, side3)\n",
        "print(f\"is_triangle : {istriangle}  \\n calculate_area: {calculatearea} \\n determine_triangle_type : {determinetriangletype}\")"
      ],
      "metadata": {
        "colab": {
          "base_uri": "https://localhost:8080/"
        },
        "id": "c78ZE-4C8ykC",
        "outputId": "a86aa07c-f858-4b4b-c109-87508edeb976"
      },
      "execution_count": null,
      "outputs": [
        {
          "output_type": "stream",
          "name": "stdout",
          "text": [
            "x1 :0\n",
            "y1 :0\n",
            "x2 :3\n",
            "y2 :0\n",
            "x3 :0\n",
            "y3 :4\n",
            "is_triangle : True  \n",
            " calculate_area: 6.0 \n",
            " determine_triangle_type : Right triangle\n"
          ]
        }
      ]
    }
  ]
}